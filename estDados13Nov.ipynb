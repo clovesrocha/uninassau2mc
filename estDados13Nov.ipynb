{
  "nbformat": 4,
  "nbformat_minor": 0,
  "metadata": {
    "colab": {
      "provenance": [],
      "authorship_tag": "ABX9TyOfZr08lLXjaCoEOOj2QV5B",
      "include_colab_link": true
    },
    "kernelspec": {
      "name": "python3",
      "display_name": "Python 3"
    },
    "language_info": {
      "name": "python"
    }
  },
  "cells": [
    {
      "cell_type": "markdown",
      "metadata": {
        "id": "view-in-github",
        "colab_type": "text"
      },
      "source": [
        "<a href=\"https://colab.research.google.com/github/clovesrocha/uninassau2mc/blob/main/estDados13Nov.ipynb\" target=\"_parent\"><img src=\"https://colab.research.google.com/assets/colab-badge.svg\" alt=\"Open In Colab\"/></a>"
      ]
    },
    {
      "cell_type": "code",
      "execution_count": null,
      "metadata": {
        "colab": {
          "base_uri": "https://localhost:8080/"
        },
        "id": "zzz8A3X6BIdt",
        "outputId": "0db6fb88-917d-49b5-ab64-87eac26df900"
      },
      "outputs": [
        {
          "output_type": "stream",
          "name": "stdout",
          "text": [
            "[100, 101, 102, 103, 104, 105]\n"
          ]
        }
      ],
      "source": [
        "# UNINASSAU\n",
        "# DOCENTE: PROF. CLOVES ROCHA\n",
        "# TURMA: SI/CC/EC - 2MC\n",
        "# FILAS E BIBLIOTECAS PARA ANALISE DE DADOS\n",
        "\n",
        "fila = [100, 101, 102, 103, 104]\n",
        "fila.append(105) #inserindo um elemento\n",
        "print(fila)"
      ]
    },
    {
      "cell_type": "code",
      "source": [
        "# Parte 2 com class\n",
        "class Fila(object):\n",
        "  def __init__(self):\n",
        "    self.dados = []\n",
        "  def insere(self, elemento):\n",
        "    self.dados.append(elemento)\n",
        "  def retira(self):\n",
        "    return self.dados.pop(0)\n",
        "  def vazia(self):\n",
        "    return len(self.dados) == 0\n",
        "\n",
        "exemplo = Fila()\n",
        "exemplo.dados"
      ],
      "metadata": {
        "colab": {
          "base_uri": "https://localhost:8080/"
        },
        "id": "Tnl9BLV8Ddmx",
        "outputId": "aa3b2744-6b90-4549-9a7c-5ede85ce934e"
      },
      "execution_count": null,
      "outputs": [
        {
          "output_type": "execute_result",
          "data": {
            "text/plain": [
              "[100, 101, 102, 103, 104]"
            ]
          },
          "metadata": {},
          "execution_count": 9
        }
      ]
    },
    {
      "cell_type": "code",
      "source": [
        "class Automovel:\n",
        "  def __init__(self):\n",
        "    self._nrodas = 4\n",
        "  def set_nrodas(self, n):\n",
        "    self._nrodas = n\n",
        "\n",
        "bmw = Automovel()\n",
        "bmw._nrodas\n",
        "# set carregando...\n",
        "bmw.set_nrodas(8)\n",
        "bmw._nrodas"
      ],
      "metadata": {
        "colab": {
          "base_uri": "https://localhost:8080/"
        },
        "id": "E0KbSmeIFJx-",
        "outputId": "06334095-4c72-41f9-8774-8affa8dd6df3"
      },
      "execution_count": null,
      "outputs": [
        {
          "output_type": "execute_result",
          "data": {
            "text/plain": [
              "8"
            ]
          },
          "metadata": {},
          "execution_count": 7
        }
      ]
    },
    {
      "cell_type": "code",
      "source": [
        "# Bibliotecas básicas Python\n",
        "import pandas as pd\n",
        "import matplotlib\n",
        "\n",
        "# Exemplo de Uso no Exercício Prático - Análise de Dados..."
      ],
      "metadata": {
        "id": "9P6bt5ElI7G3"
      },
      "execution_count": null,
      "outputs": []
    }
  ]
}