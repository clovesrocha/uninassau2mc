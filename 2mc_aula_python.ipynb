{
  "nbformat": 4,
  "nbformat_minor": 0,
  "metadata": {
    "colab": {
      "provenance": [],
      "authorship_tag": "ABX9TyMafVnO+tqLNq/dMg2hbC/E",
      "include_colab_link": true
    },
    "kernelspec": {
      "name": "python3",
      "display_name": "Python 3"
    },
    "language_info": {
      "name": "python"
    }
  },
  "cells": [
    {
      "cell_type": "markdown",
      "metadata": {
        "id": "view-in-github",
        "colab_type": "text"
      },
      "source": [
        "<a href=\"https://colab.research.google.com/github/clovesrocha/uninassau2mc/blob/main/2mc_aula_python.ipynb\" target=\"_parent\"><img src=\"https://colab.research.google.com/assets/colab-badge.svg\" alt=\"Open In Colab\"/></a>"
      ]
    },
    {
      "cell_type": "code",
      "execution_count": 6,
      "metadata": {
        "colab": {
          "base_uri": "https://localhost:8080/"
        },
        "id": "itkropRow_5w",
        "outputId": "95c3c15d-4cc8-4546-9fea-a7ef60c44a0b"
      },
      "outputs": [
        {
          "output_type": "stream",
          "name": "stdout",
          "text": [
            "[181, 100, 40]\n",
            "Seu IMC é:  0.003052409877598364\n"
          ]
        }
      ],
      "source": [
        "# 11. Um pouco de Álgebra Linear\n",
        "imc = [181, #altura\n",
        "       100, #peso\n",
        "       40]  #idade\n",
        "print(imc)  #Peso / Altura * Altura\n",
        "print('Seu IMC é: ', 100 / (181 * 181))"
      ]
    },
    {
      "cell_type": "code",
      "source": [
        "# vetor de notas\n",
        "notas = [a, #nota1\n",
        "         b,  #nota2\n",
        "         c,  #nota3\n",
        "         d]  #nota4\n",
        "print(notas)\n",
        "print('Sua média é:',(10 + 9 + 8 + 7) / 4)"
      ],
      "metadata": {
        "colab": {
          "base_uri": "https://localhost:8080/"
        },
        "id": "tqxg7eBC0k_U",
        "outputId": "2ff1a084-3872-40a3-db07-c0e6e5f71085"
      },
      "execution_count": 11,
      "outputs": [
        {
          "output_type": "stream",
          "name": "stdout",
          "text": [
            "[10, 9, 8, 7]\n",
            "Sua média é: 8.5\n"
          ]
        }
      ]
    }
  ]
}