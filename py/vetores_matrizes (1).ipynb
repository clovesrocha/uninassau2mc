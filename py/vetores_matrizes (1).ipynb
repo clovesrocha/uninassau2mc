{
  "nbformat": 4,
  "nbformat_minor": 0,
  "metadata": {
    "colab": {
      "provenance": []
    },
    "kernelspec": {
      "name": "python3",
      "display_name": "Python 3"
    },
    "language_info": {
      "name": "python"
    }
  },
  "cells": [
    {
      "cell_type": "code",
      "execution_count": 1,
      "metadata": {
        "colab": {
          "base_uri": "https://localhost:8080/"
        },
        "id": "Qr2uCPZy6OFh",
        "outputId": "2bfb754d-725d-47ad-b60f-71f4be34bb24"
      },
      "outputs": [
        {
          "output_type": "stream",
          "name": "stdout",
          "text": [
            "[181, 100, 40]\n"
          ]
        }
      ],
      "source": [
        "# UNINASSAU - 2MC ESTRUTURA DE DADOS\n",
        "# DOCENTE: PROF. MSC. CLOVES\n",
        "# ESTUDANTE: ...\n",
        "\n",
        "IMC = [181, #ALTURA\n",
        "       100, #PESO\n",
        "        40] #IDADE\n",
        "print(IMC)"
      ]
    },
    {
      "cell_type": "code",
      "source": [
        "NOTAS = [ 10, #N1\n",
        "           9, #N2\n",
        "           8, #N3\n",
        "           7] #N4\n",
        "print(NOTAS)"
      ],
      "metadata": {
        "colab": {
          "base_uri": "https://localhost:8080/"
        },
        "id": "b-j_utLD70C5",
        "outputId": "cc3213e7-4bf8-4b51-8093-dd9d2b6a2cd9"
      },
      "execution_count": 2,
      "outputs": [
        {
          "output_type": "stream",
          "name": "stdout",
          "text": [
            "[10, 9, 8, 7]\n"
          ]
        }
      ]
    },
    {
      "cell_type": "code",
      "source": [
        "def vet_add(vet1, vet2):\n",
        "  # soma elementos correspondentes\n",
        "return [vet1_i + vet2_i\n",
        "        for vet1_i, vet2_i in zip(vet1, vet2)]\n"
      ],
      "metadata": {
        "id": "Vp7X9YD48QzN"
      },
      "execution_count": null,
      "outputs": []
    },
    {
      "cell_type": "code",
      "source": [
        "fila = [100, 101, 102, 103, 104]\n",
        "fila.append(105) #insere um elemento no final\n",
        "print(fila)"
      ],
      "metadata": {
        "id": "CSx05tir99tr"
      },
      "execution_count": null,
      "outputs": []
    },
    {
      "cell_type": "code",
      "source": [
        "def vet_sub(vet1, vet2):\n",
        "  # subtrai elementos correspondentes\n",
        "return [vet1_i - vet2_i\n",
        "        for vet1_i, vet2_i in zip(vet1, vet2)]\n"
      ],
      "metadata": {
        "id": "QmOdXX3B9bbL"
      },
      "execution_count": null,
      "outputs": []
    },
    {
      "cell_type": "code",
      "source": [
        "import numpy as np\n",
        "matriz = np.array([[0,1,2], [3,4,5], [6,7,8]])\n",
        "elemnto = matriz[0,1] #Obtém o elemento\n",
        "\n",
        "num_linhas = matriz.shape[0]\n",
        "num_colunas = matriz.shape[1]\n",
        "\n",
        "for linha in matriz:\n",
        "  for elemento in linha:\n",
        "    print(elemento)"
      ],
      "metadata": {
        "id": "0NoLfJmY9qkt"
      },
      "execution_count": null,
      "outputs": []
    },
    {
      "cell_type": "code",
      "source": [
        "# Operações matricias\n",
        "matriz1 = np.array([[1, 2], [3, 4]])\n",
        "matriz2 = np.array([[5, 6 ], [7, 8]])\n",
        "\n",
        "soma = matriz1 + matriz2\n",
        "produto = np.dot(matriz1, matriz2)\n",
        "print(soma)\n",
        "print(produto)"
      ],
      "metadata": {
        "id": "AayTlcFABEDt"
      },
      "execution_count": null,
      "outputs": []
    },
    {
      "cell_type": "code",
      "source": [
        "# Transposição de matriz\n",
        "m_transposta = matriz.T\n",
        "a = 2\n",
        "b = 3\n",
        "a = b\n",
        "print(a)"
      ],
      "metadata": {
        "colab": {
          "base_uri": "https://localhost:8080/"
        },
        "id": "3-pnDujGB_AD",
        "outputId": "6e516905-c6a1-4055-800d-2b0ce9ced330"
      },
      "execution_count": 9,
      "outputs": [
        {
          "output_type": "stream",
          "name": "stdout",
          "text": [
            "3\n"
          ]
        }
      ]
    },
    {
      "cell_type": "code",
      "source": [
        "# Indexação booleana\n",
        "matriz = np.array([[1,2,3], [4,5,6], [7,8,9]])\n",
        "condicao = matriz > 5 # Cria uma matriz de booleanos\n",
        "elemento_maiores_q_5 = matriz[condicao]"
      ],
      "metadata": {
        "id": "iHxNTyakChkw"
      },
      "execution_count": 10,
      "outputs": []
    },
    {
      "cell_type": "code",
      "source": [
        "# Outras operações úteis\n",
        "media = np.mean(matriz)\n",
        "valor_minimo = np.min(matriz)\n",
        "valor_max = np.max(matriz)\n",
        "print(matriz)"
      ],
      "metadata": {
        "colab": {
          "base_uri": "https://localhost:8080/"
        },
        "id": "NmNYjkFeDNcV",
        "outputId": "0b79a219-8c7f-4a36-9e68-a54fb679e65f"
      },
      "execution_count": 11,
      "outputs": [
        {
          "output_type": "stream",
          "name": "stdout",
          "text": [
            "[[1 2 3]\n",
            " [4 5 6]\n",
            " [7 8 9]]\n"
          ]
        }
      ]
    }
  ]
}