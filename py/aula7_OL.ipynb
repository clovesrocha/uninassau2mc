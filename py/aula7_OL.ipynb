{
  "nbformat": 4,
  "nbformat_minor": 0,
  "metadata": {
    "colab": {
      "provenance": []
    },
    "kernelspec": {
      "name": "python3",
      "display_name": "Python 3"
    },
    "language_info": {
      "name": "python"
    }
  },
  "cells": [
    {
      "cell_type": "code",
      "execution_count": 3,
      "metadata": {
        "colab": {
          "base_uri": "https://localhost:8080/"
        },
        "id": "48aaRrjntS-w",
        "outputId": "aa990dbc-3bc6-4e81-ead0-70b092713c33"
      },
      "outputs": [
        {
          "output_type": "stream",
          "name": "stdout",
          "text": [
            "Qual é a sua idade? 66\n",
            "Você não é obrigado a votar!\n"
          ]
        }
      ],
      "source": [
        "# UNINASSAU\n",
        "# Docente: Cloves\n",
        "# Estudante:\n",
        "# AULA 7 - T10. Operadores Lógicos:\n",
        "# and; or; not;\n",
        "# Função range() e os operadores in; not in;\n",
        "\n",
        "# and\n",
        "resposta = int(input('Qual é a sua idade? '))\n",
        "if resposta >=18 and resposta <=65:\n",
        "  print('Você é obrigado a votar!')\n",
        "else:\n",
        "  print('Você não é obrigado a votar!')"
      ]
    },
    {
      "cell_type": "code",
      "source": [
        "# or\n",
        "print('1. Idoso')\n",
        "print('2. Gestante')\n",
        "print('3. Cadeirante')\n",
        "print('4. Nenhum destas opções.')\n",
        "resposta = int(input('Você é: '))\n",
        "\n",
        "if (resposta==1) or (resposta==2) or (resposta==3):\n",
        "  print('você tem direito a fila prioritária')\n",
        "else:\n",
        "  print('Você não tem direito a fila prioritária')\n",
        ""
      ],
      "metadata": {
        "colab": {
          "base_uri": "https://localhost:8080/"
        },
        "id": "VQVGwFfsvupp",
        "outputId": "b336000c-ada0-4eda-dbeb-6b9d8c787962"
      },
      "execution_count": 6,
      "outputs": [
        {
          "output_type": "stream",
          "name": "stdout",
          "text": [
            "1. Idoso\n",
            "2. Gestante\n",
            "3. Cadeirante\n",
            "4. Nenhum destas opções.\n",
            "Você é: 4\n",
            "Você não tem direito a fila prioritária\n"
          ]
        }
      ]
    },
    {
      "cell_type": "code",
      "source": [
        "# not\n",
        "a = 4\n",
        "b = 2\n",
        "print(not a > b)"
      ],
      "metadata": {
        "colab": {
          "base_uri": "https://localhost:8080/"
        },
        "id": "4NY2bUYSxu7P",
        "outputId": "8c2dfb1c-15e7-4ee8-94f3-ce2921338e20"
      },
      "execution_count": 9,
      "outputs": [
        {
          "output_type": "stream",
          "name": "stdout",
          "text": [
            "False\n"
          ]
        }
      ]
    },
    {
      "cell_type": "code",
      "source": [
        "banda = input('Qual melhor banda do mundo? ')\n",
        "\n",
        "if not banda == 'Beatles':\n",
        "  print('São os Beatles!')\n",
        "else:\n",
        "  print('Correto, são os Beatles')"
      ],
      "metadata": {
        "colab": {
          "base_uri": "https://localhost:8080/"
        },
        "id": "WZDDwa5xyX0d",
        "outputId": "d0bc071e-9744-4714-fe9a-d98d0dc75345"
      },
      "execution_count": 11,
      "outputs": [
        {
          "output_type": "stream",
          "name": "stdout",
          "text": [
            "Qual melhor banda do mundo? beatles\n",
            "São os Beatles!\n"
          ]
        }
      ]
    },
    {
      "cell_type": "code",
      "source": [
        "# função range()\n",
        "a = int(input('Digite um número: '))\n",
        "if a in range(1, 300):\n",
        "  print(f'{a} está entre 1 e 300.')\n",
        "else:\n",
        "  print(f'{a} não está entre 1 e 300.')\n",
        ""
      ],
      "metadata": {
        "colab": {
          "base_uri": "https://localhost:8080/"
        },
        "id": "nRBg5UQFzzWT",
        "outputId": "de08f19d-723d-4975-9c96-9811ffb91e14"
      },
      "execution_count": 18,
      "outputs": [
        {
          "output_type": "stream",
          "name": "stdout",
          "text": [
            "Digite um número: 301\n",
            "301 não está entre 1 e 300.\n"
          ]
        }
      ]
    },
    {
      "cell_type": "code",
      "source": [],
      "metadata": {
        "id": "obDwTzqLzSMI"
      },
      "execution_count": null,
      "outputs": []
    }
  ]
}