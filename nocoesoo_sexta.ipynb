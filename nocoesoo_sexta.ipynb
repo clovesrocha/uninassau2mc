{
  "nbformat": 4,
  "nbformat_minor": 0,
  "metadata": {
    "colab": {
      "provenance": [],
      "authorship_tag": "ABX9TyPey6R4fY9VZzuz5umnzAWD",
      "include_colab_link": true
    },
    "kernelspec": {
      "name": "python3",
      "display_name": "Python 3"
    },
    "language_info": {
      "name": "python"
    }
  },
  "cells": [
    {
      "cell_type": "markdown",
      "metadata": {
        "id": "view-in-github",
        "colab_type": "text"
      },
      "source": [
        "<a href=\"https://colab.research.google.com/github/clovesrocha/uninassau2mc/blob/main/nocoesoo_sexta.ipynb\" target=\"_parent\"><img src=\"https://colab.research.google.com/assets/colab-badge.svg\" alt=\"Open In Colab\"/></a>"
      ]
    },
    {
      "cell_type": "code",
      "execution_count": 6,
      "metadata": {
        "colab": {
          "base_uri": "https://localhost:8080/"
        },
        "id": "tLwL-lNWbNPD",
        "outputId": "a52ccdd2-414f-4e9d-f9b4-da870f7d358e"
      },
      "outputs": [
        {
          "output_type": "stream",
          "name": "stdout",
          "text": [
            "<__main__.Carro object at 0x7e9f5d70cb20>\n"
          ]
        }
      ],
      "source": [
        "# UNINASSAU\n",
        "# DOCENTE: CLOVES ROCHA\n",
        "# DISCIPLINA: PWCn",
        "# ESTUDANTE: ...\n",
        "\n",
        "class Carro:\n",
        "  def __init__(self):\n",
        "    self.nrodas = 4\n",
        "  def setnrodas(self, num):\n",
        "    self.nrodas = num\n",
        "gol = Carro()\n",
        "gol.nrodas\n",
        "c = gol\n",
        "print(c)"
      ]
    },
    {
      "cell_type": "code",
      "source": [
        "# Objeto Pessoa\n",
        "class Pessoa:\n",
        "  def __init__(self):\n",
        "    self.nome = str(input('Digite seu nome: '))\n",
        "    self.idade = int(input('Digite sua idade: '))\n",
        "    self.cpf = int(input('Digite o número do CPF: '))\n",
        "    self.end = str(input('Digite seu endereço: '))\n",
        "    self.sexo = str(input('Digite seu sexo: '))\n",
        "  def setnome(self, nome):\n",
        "    self.nome = str(input('Digite seu nome: '))\n",
        "\n",
        "humano = Pessoa()\n",
        "humano.nome\n",
        "humano.idade\n",
        "humano.cpf\n",
        "humano.end\n",
        "humano.sexo\n",
        "#print(humano)"
      ],
      "metadata": {
        "colab": {
          "base_uri": "https://localhost:8080/",
          "height": 125
        },
        "id": "0-tmA72Mdl-D",
        "outputId": "7f01001e-15eb-4c7e-b692-662708b61018"
      },
      "execution_count": 14,
      "outputs": [
        {
          "name": "stdout",
          "output_type": "stream",
          "text": [
            "Digite seu nome: Cloves\n",
            "Digite sua idade: 38\n",
            "Digite o número do CPF: 123456789\n",
            "Digite seu endereço: Rua Fulano de Tal\n",
            "Digite seu sexo: M\n"
          ]
        },
        {
          "output_type": "execute_result",
          "data": {
            "text/plain": [
              "'M'"
            ],
            "application/vnd.google.colaboratory.intrinsic+json": {
              "type": "string"
            }
          },
          "metadata": {},
          "execution_count": 14
        }
      ]
    }
  ]
}
